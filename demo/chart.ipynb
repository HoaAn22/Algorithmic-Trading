{
 "cells": [
  {
   "cell_type": "code",
   "execution_count": 8,
   "metadata": {},
   "outputs": [
    {
     "name": "stderr",
     "output_type": "stream",
     "text": [
      "[*********************100%***********************]  1 of 1 completed\n",
      "\n",
      "1 Failed download:\n",
      "['AAPL']: YFRateLimitError('Too Many Requests. Rate limited. Try after a while.')\n"
     ]
    },
    {
     "data": {
      "text/html": [
       "<div>\n",
       "<style scoped>\n",
       "    .dataframe tbody tr th:only-of-type {\n",
       "        vertical-align: middle;\n",
       "    }\n",
       "\n",
       "    .dataframe tbody tr th {\n",
       "        vertical-align: top;\n",
       "    }\n",
       "\n",
       "    .dataframe thead tr th {\n",
       "        text-align: left;\n",
       "    }\n",
       "\n",
       "    .dataframe thead tr:last-of-type th {\n",
       "        text-align: right;\n",
       "    }\n",
       "</style>\n",
       "<table border=\"1\" class=\"dataframe\">\n",
       "  <thead>\n",
       "    <tr>\n",
       "      <th>Price</th>\n",
       "      <th>Adj Close</th>\n",
       "      <th>Close</th>\n",
       "      <th>High</th>\n",
       "      <th>Low</th>\n",
       "      <th>Open</th>\n",
       "      <th>Volume</th>\n",
       "    </tr>\n",
       "    <tr>\n",
       "      <th>Ticker</th>\n",
       "      <th>AAPL</th>\n",
       "      <th>AAPL</th>\n",
       "      <th>AAPL</th>\n",
       "      <th>AAPL</th>\n",
       "      <th>AAPL</th>\n",
       "      <th>AAPL</th>\n",
       "    </tr>\n",
       "    <tr>\n",
       "      <th>Date</th>\n",
       "      <th></th>\n",
       "      <th></th>\n",
       "      <th></th>\n",
       "      <th></th>\n",
       "      <th></th>\n",
       "      <th></th>\n",
       "    </tr>\n",
       "  </thead>\n",
       "  <tbody>\n",
       "  </tbody>\n",
       "</table>\n",
       "</div>"
      ],
      "text/plain": [
       "Empty DataFrame\n",
       "Columns: [(Adj Close, AAPL), (Close, AAPL), (High, AAPL), (Low, AAPL), (Open, AAPL), (Volume, AAPL)]\n",
       "Index: []"
      ]
     },
     "execution_count": 8,
     "metadata": {},
     "output_type": "execute_result"
    }
   ],
   "source": [
    "import yfinance as yf\n",
    "import plotly.graph_objects as go\n",
    "\n",
    "# Tải dữ liệu cổ phiếu AAPL từ Yahoo Finance\n",
    "data = yf.download('AAPL', start='2023-01-01', end='2025-01-01')\n",
    "data\n"
   ]
  },
  {
   "cell_type": "code",
   "execution_count": null,
   "metadata": {},
   "outputs": [
    {
     "name": "stderr",
     "output_type": "stream",
     "text": [
      "[*********************100%***********************]  1 of 1 completed\n",
      "\n",
      "1 Failed download:\n",
      "['AAPL']: YFRateLimitError('Too Many Requests. Rate limited. Try after a while.')\n"
     ]
    },
    {
     "name": "stdout",
     "output_type": "stream",
     "text": [
      "Rate limit reached, retrying after 60 seconds...\n"
     ]
    },
    {
     "name": "stderr",
     "output_type": "stream",
     "text": [
      "[*********************100%***********************]  1 of 1 completed\n",
      "\n",
      "1 Failed download:\n",
      "['AAPL']: YFRateLimitError('Too Many Requests. Rate limited. Try after a while.')\n"
     ]
    },
    {
     "name": "stdout",
     "output_type": "stream",
     "text": [
      "Rate limit reached, retrying after 60 seconds...\n"
     ]
    },
    {
     "name": "stderr",
     "output_type": "stream",
     "text": [
      "[*********************100%***********************]  1 of 1 completed\n",
      "\n",
      "1 Failed download:\n",
      "['AAPL']: YFRateLimitError('Too Many Requests. Rate limited. Try after a while.')\n"
     ]
    },
    {
     "name": "stdout",
     "output_type": "stream",
     "text": [
      "Rate limit reached, retrying after 60 seconds...\n"
     ]
    },
    {
     "name": "stderr",
     "output_type": "stream",
     "text": [
      "[*********************100%***********************]  1 of 1 completed\n",
      "\n",
      "1 Failed download:\n",
      "['AAPL']: YFRateLimitError('Too Many Requests. Rate limited. Try after a while.')\n"
     ]
    },
    {
     "name": "stdout",
     "output_type": "stream",
     "text": [
      "Rate limit reached, retrying after 60 seconds...\n"
     ]
    },
    {
     "name": "stderr",
     "output_type": "stream",
     "text": [
      "[*********************100%***********************]  1 of 1 completed\n",
      "\n",
      "1 Failed download:\n",
      "['AAPL']: YFRateLimitError('Too Many Requests. Rate limited. Try after a while.')\n"
     ]
    },
    {
     "name": "stdout",
     "output_type": "stream",
     "text": [
      "Rate limit reached, retrying after 60 seconds...\n"
     ]
    }
   ],
   "source": [
    "import yfinance as yf\n",
    "import plotly.graph_objects as go\n",
    "import time\n",
    "\n",
    "# Tải dữ liệu cổ phiếu AAPL với auto_adjust=True\n",
    "data = yf.download('AAPL', start='2023-01-01', end='2025-01-01', auto_adjust=True)\n",
    "\n",
    "# Nếu gặp lỗi giới hạn số lần yêu cầu, thử lại sau một khoảng thời gian\n",
    "while data.empty:\n",
    "    print(\"Rate limit reached, retrying after 60 seconds...\")\n",
    "    time.sleep(60)  # Đợi 60 giây rồi thử lại\n",
    "    data = yf.download('AAPL', start='2023-01-01', end='2025-01-01', auto_adjust=True)\n",
    "\n",
    "data"
   ]
  },
  {
   "cell_type": "code",
   "execution_count": 6,
   "metadata": {},
   "outputs": [
    {
     "name": "stdout",
     "output_type": "stream",
     "text": [
      "Found existing installation: yfinance 0.2.54Note: you may need to restart the kernel to use updated packages.\n",
      "\n",
      "Uninstalling yfinance-0.2.54:\n",
      "  Successfully uninstalled yfinance-0.2.54\n"
     ]
    }
   ],
   "source": [
    "pip uninstall yfinance -y\n"
   ]
  },
  {
   "cell_type": "code",
   "execution_count": 3,
   "metadata": {},
   "outputs": [
    {
     "name": "stdout",
     "output_type": "stream",
     "text": [
      "Collecting yfinance==0.2.54\n",
      "  Downloading yfinance-0.2.54-py2.py3-none-any.whl.metadata (5.8 kB)\n",
      "Requirement already satisfied: pandas>=1.3.0 in c:\\users\\hoaan\\appdata\\local\\programs\\python\\python313\\lib\\site-packages (from yfinance==0.2.54) (2.2.3)\n",
      "Requirement already satisfied: numpy>=1.16.5 in c:\\users\\hoaan\\appdata\\local\\programs\\python\\python313\\lib\\site-packages (from yfinance==0.2.54) (2.2.2)\n",
      "Requirement already satisfied: requests>=2.31 in c:\\users\\hoaan\\appdata\\local\\programs\\python\\python313\\lib\\site-packages (from yfinance==0.2.54) (2.32.3)\n",
      "Requirement already satisfied: multitasking>=0.0.7 in c:\\users\\hoaan\\appdata\\local\\programs\\python\\python313\\lib\\site-packages (from yfinance==0.2.54) (0.0.11)\n",
      "Requirement already satisfied: platformdirs>=2.0.0 in c:\\users\\hoaan\\appdata\\roaming\\python\\python313\\site-packages (from yfinance==0.2.54) (4.3.6)\n",
      "Requirement already satisfied: pytz>=2022.5 in c:\\users\\hoaan\\appdata\\local\\programs\\python\\python313\\lib\\site-packages (from yfinance==0.2.54) (2025.1)\n",
      "Requirement already satisfied: frozendict>=2.3.4 in c:\\users\\hoaan\\appdata\\local\\programs\\python\\python313\\lib\\site-packages (from yfinance==0.2.54) (2.4.6)\n",
      "Requirement already satisfied: peewee>=3.16.2 in c:\\users\\hoaan\\appdata\\local\\programs\\python\\python313\\lib\\site-packages (from yfinance==0.2.54) (3.17.9)\n",
      "Requirement already satisfied: beautifulsoup4>=4.11.1 in c:\\users\\hoaan\\appdata\\local\\programs\\python\\python313\\lib\\site-packages (from yfinance==0.2.54) (4.13.3)\n",
      "Requirement already satisfied: soupsieve>1.2 in c:\\users\\hoaan\\appdata\\local\\programs\\python\\python313\\lib\\site-packages (from beautifulsoup4>=4.11.1->yfinance==0.2.54) (2.6)\n",
      "Requirement already satisfied: typing-extensions>=4.0.0 in c:\\users\\hoaan\\appdata\\local\\programs\\python\\python313\\lib\\site-packages (from beautifulsoup4>=4.11.1->yfinance==0.2.54) (4.12.2)\n",
      "Requirement already satisfied: python-dateutil>=2.8.2 in c:\\users\\hoaan\\appdata\\roaming\\python\\python313\\site-packages (from pandas>=1.3.0->yfinance==0.2.54) (2.9.0.post0)\n",
      "Requirement already satisfied: tzdata>=2022.7 in c:\\users\\hoaan\\appdata\\local\\programs\\python\\python313\\lib\\site-packages (from pandas>=1.3.0->yfinance==0.2.54) (2025.1)\n",
      "Requirement already satisfied: charset-normalizer<4,>=2 in c:\\users\\hoaan\\appdata\\local\\programs\\python\\python313\\lib\\site-packages (from requests>=2.31->yfinance==0.2.54) (3.4.1)\n",
      "Requirement already satisfied: idna<4,>=2.5 in c:\\users\\hoaan\\appdata\\local\\programs\\python\\python313\\lib\\site-packages (from requests>=2.31->yfinance==0.2.54) (3.10)\n",
      "Requirement already satisfied: urllib3<3,>=1.21.1 in c:\\users\\hoaan\\appdata\\local\\programs\\python\\python313\\lib\\site-packages (from requests>=2.31->yfinance==0.2.54) (2.3.0)\n",
      "Requirement already satisfied: certifi>=2017.4.17 in c:\\users\\hoaan\\appdata\\local\\programs\\python\\python313\\lib\\site-packages (from requests>=2.31->yfinance==0.2.54) (2025.1.31)\n",
      "Requirement already satisfied: six>=1.5 in c:\\users\\hoaan\\appdata\\roaming\\python\\python313\\site-packages (from python-dateutil>=2.8.2->pandas>=1.3.0->yfinance==0.2.54) (1.17.0)\n",
      "Downloading yfinance-0.2.54-py2.py3-none-any.whl (108 kB)\n",
      "Installing collected packages: yfinance\n",
      "Successfully installed yfinance-0.2.54\n",
      "Note: you may need to restart the kernel to use updated packages.\n"
     ]
    },
    {
     "name": "stderr",
     "output_type": "stream",
     "text": [
      "\n",
      "[notice] A new release of pip is available: 25.0.1 -> 25.1.1\n",
      "[notice] To update, run: python.exe -m pip install --upgrade pip\n"
     ]
    }
   ],
   "source": [
    "pip install yfinance==0.2.54\n"
   ]
  },
  {
   "cell_type": "code",
   "execution_count": 7,
   "metadata": {},
   "outputs": [
    {
     "name": "stdout",
     "output_type": "stream",
     "text": [
      "Collecting yfinanceNote: you may need to restart the kernel to use updated packages.\n"
     ]
    },
    {
     "name": "stderr",
     "output_type": "stream",
     "text": [
      "\n",
      "[notice] A new release of pip is available: 25.0.1 -> 25.1.1\n",
      "[notice] To update, run: python.exe -m pip install --upgrade pip\n"
     ]
    },
    {
     "name": "stdout",
     "output_type": "stream",
     "text": [
      "\n",
      "  Downloading yfinance-0.2.59-py2.py3-none-any.whl.metadata (5.7 kB)\n",
      "Requirement already satisfied: pandas>=1.3.0 in c:\\users\\hoaan\\appdata\\local\\programs\\python\\python313\\lib\\site-packages (from yfinance) (2.2.3)\n",
      "Requirement already satisfied: numpy>=1.16.5 in c:\\users\\hoaan\\appdata\\local\\programs\\python\\python313\\lib\\site-packages (from yfinance) (2.2.2)\n",
      "Requirement already satisfied: requests>=2.31 in c:\\users\\hoaan\\appdata\\local\\programs\\python\\python313\\lib\\site-packages (from yfinance) (2.32.3)\n",
      "Requirement already satisfied: multitasking>=0.0.7 in c:\\users\\hoaan\\appdata\\local\\programs\\python\\python313\\lib\\site-packages (from yfinance) (0.0.11)\n",
      "Requirement already satisfied: platformdirs>=2.0.0 in c:\\users\\hoaan\\appdata\\roaming\\python\\python313\\site-packages (from yfinance) (4.3.6)\n",
      "Requirement already satisfied: pytz>=2022.5 in c:\\users\\hoaan\\appdata\\local\\programs\\python\\python313\\lib\\site-packages (from yfinance) (2025.1)\n",
      "Requirement already satisfied: frozendict>=2.3.4 in c:\\users\\hoaan\\appdata\\local\\programs\\python\\python313\\lib\\site-packages (from yfinance) (2.4.6)\n",
      "Requirement already satisfied: peewee>=3.16.2 in c:\\users\\hoaan\\appdata\\local\\programs\\python\\python313\\lib\\site-packages (from yfinance) (3.17.9)\n",
      "Requirement already satisfied: beautifulsoup4>=4.11.1 in c:\\users\\hoaan\\appdata\\local\\programs\\python\\python313\\lib\\site-packages (from yfinance) (4.13.3)\n",
      "Collecting curl_cffi>=0.7 (from yfinance)\n",
      "  Downloading curl_cffi-0.10.0-cp39-abi3-win_amd64.whl.metadata (12 kB)\n",
      "Collecting protobuf<6,>=5.29.0 (from yfinance)\n",
      "  Downloading protobuf-5.29.4-cp310-abi3-win_amd64.whl.metadata (592 bytes)\n",
      "Collecting websockets>=11.0 (from yfinance)\n",
      "  Downloading websockets-15.0.1-cp313-cp313-win_amd64.whl.metadata (7.0 kB)\n",
      "Requirement already satisfied: soupsieve>1.2 in c:\\users\\hoaan\\appdata\\local\\programs\\python\\python313\\lib\\site-packages (from beautifulsoup4>=4.11.1->yfinance) (2.6)\n",
      "Requirement already satisfied: typing-extensions>=4.0.0 in c:\\users\\hoaan\\appdata\\local\\programs\\python\\python313\\lib\\site-packages (from beautifulsoup4>=4.11.1->yfinance) (4.12.2)\n",
      "Requirement already satisfied: cffi>=1.12.0 in c:\\users\\hoaan\\appdata\\local\\programs\\python\\python313\\lib\\site-packages (from curl_cffi>=0.7->yfinance) (1.17.1)\n",
      "Requirement already satisfied: certifi>=2024.2.2 in c:\\users\\hoaan\\appdata\\local\\programs\\python\\python313\\lib\\site-packages (from curl_cffi>=0.7->yfinance) (2025.1.31)\n",
      "Requirement already satisfied: python-dateutil>=2.8.2 in c:\\users\\hoaan\\appdata\\roaming\\python\\python313\\site-packages (from pandas>=1.3.0->yfinance) (2.9.0.post0)\n",
      "Requirement already satisfied: tzdata>=2022.7 in c:\\users\\hoaan\\appdata\\local\\programs\\python\\python313\\lib\\site-packages (from pandas>=1.3.0->yfinance) (2025.1)\n",
      "Requirement already satisfied: charset-normalizer<4,>=2 in c:\\users\\hoaan\\appdata\\local\\programs\\python\\python313\\lib\\site-packages (from requests>=2.31->yfinance) (3.4.1)\n",
      "Requirement already satisfied: idna<4,>=2.5 in c:\\users\\hoaan\\appdata\\local\\programs\\python\\python313\\lib\\site-packages (from requests>=2.31->yfinance) (3.10)\n",
      "Requirement already satisfied: urllib3<3,>=1.21.1 in c:\\users\\hoaan\\appdata\\local\\programs\\python\\python313\\lib\\site-packages (from requests>=2.31->yfinance) (2.3.0)\n",
      "Requirement already satisfied: pycparser in c:\\users\\hoaan\\appdata\\local\\programs\\python\\python313\\lib\\site-packages (from cffi>=1.12.0->curl_cffi>=0.7->yfinance) (2.22)\n",
      "Requirement already satisfied: six>=1.5 in c:\\users\\hoaan\\appdata\\roaming\\python\\python313\\site-packages (from python-dateutil>=2.8.2->pandas>=1.3.0->yfinance) (1.17.0)\n",
      "Downloading yfinance-0.2.59-py2.py3-none-any.whl (117 kB)\n",
      "Downloading curl_cffi-0.10.0-cp39-abi3-win_amd64.whl (1.4 MB)\n",
      "   ---------------------------------------- 0.0/1.4 MB ? eta -:--:--\n",
      "   ------- -------------------------------- 0.3/1.4 MB ? eta -:--:--\n",
      "   --------------- ------------------------ 0.5/1.4 MB 1.4 MB/s eta 0:00:01\n",
      "   ---------------------- ----------------- 0.8/1.4 MB 1.5 MB/s eta 0:00:01\n",
      "   ------------------------------ --------- 1.0/1.4 MB 1.5 MB/s eta 0:00:01\n",
      "   ---------------------------------------- 1.4/1.4 MB 1.5 MB/s eta 0:00:00\n",
      "Downloading protobuf-5.29.4-cp310-abi3-win_amd64.whl (434 kB)\n",
      "Downloading websockets-15.0.1-cp313-cp313-win_amd64.whl (176 kB)\n",
      "Installing collected packages: websockets, protobuf, curl_cffi, yfinance\n",
      "Successfully installed curl_cffi-0.10.0 protobuf-5.29.4 websockets-15.0.1 yfinance-0.2.59\n"
     ]
    }
   ],
   "source": [
    "pip install yfinance"
   ]
  },
  {
   "cell_type": "code",
   "execution_count": 4,
   "metadata": {},
   "outputs": [
    {
     "name": "stdout",
     "output_type": "stream",
     "text": [
      "Name: yfinance\n",
      "Version: 0.2.54\n",
      "Summary: Download market data from Yahoo! Finance API\n",
      "Home-page: https://github.com/ranaroussi/yfinance\n",
      "Author: Ran Aroussi\n",
      "Author-email: ran@aroussi.com\n",
      "License: Apache\n",
      "Location: c:\\Users\\HoaAn\\AppData\\Local\\Programs\\Python\\Python313\\Lib\\site-packages\n",
      "Requires: beautifulsoup4, frozendict, multitasking, numpy, pandas, peewee, platformdirs, pytz, requests\n",
      "Required-by: \n",
      "Note: you may need to restart the kernel to use updated packages.\n"
     ]
    }
   ],
   "source": [
    "pip show yfinance"
   ]
  },
  {
   "cell_type": "code",
   "execution_count": null,
   "metadata": {},
   "outputs": [],
   "source": [
    "# Tạo biểu đồ nến\n",
    "fig = go.Figure(data=[go.Candlestick(\n",
    "    x=data.index,\n",
    "    open=data['Open'],\n",
    "    high=data['High'],\n",
    "    low=data['Low'],\n",
    "    close=data['Close'],\n",
    "    name='AAPL'\n",
    ")])\n",
    "\n",
    "# Cập nhật giao diện\n",
    "fig.update_layout(\n",
    "    title='Biểu đồ nến cổ phiếu AAPL',\n",
    "    xaxis_title='Ngày',\n",
    "    yaxis_title='Giá',\n",
    "    xaxis_rangeslider_visible=False\n",
    ")\n",
    "\n",
    "# Hiển thị biểu đồ\n",
    "fig.show()\n"
   ]
  }
 ],
 "metadata": {
  "kernelspec": {
   "display_name": "Python 3",
   "language": "python",
   "name": "python3"
  },
  "language_info": {
   "codemirror_mode": {
    "name": "ipython",
    "version": 3
   },
   "file_extension": ".py",
   "mimetype": "text/x-python",
   "name": "python",
   "nbconvert_exporter": "python",
   "pygments_lexer": "ipython3",
   "version": "3.13.3"
  }
 },
 "nbformat": 4,
 "nbformat_minor": 2
}
